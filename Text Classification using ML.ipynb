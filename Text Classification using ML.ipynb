{
 "cells": [
  {
   "cell_type": "code",
   "execution_count": 11,
   "id": "75cc92c2",
   "metadata": {},
   "outputs": [
    {
     "name": "stderr",
     "output_type": "stream",
     "text": [
      "[nltk_data] Downloading package wordnet to\n",
      "[nltk_data]     C:\\Users\\ASUS\\AppData\\Roaming\\nltk_data...\n"
     ]
    }
   ],
   "source": [
    "import nltk\n",
    "nltk.download('wordnet')\n",
    "from nltk.stem import WordNetLemmatizer"
   ]
  },
  {
   "cell_type": "code",
   "execution_count": 15,
   "id": "3c1d3e4a",
   "metadata": {},
   "outputs": [],
   "source": [
    "import requests"
   ]
  },
  {
   "cell_type": "code",
   "execution_count": 17,
   "id": "3d871398",
   "metadata": {},
   "outputs": [],
   "source": [
    "api_endpoint = \"https://api.themoviedb.org/3/movie/top_rated?api_key=8265bd1679663a7ea12ac168da84d2e8&language=en-US&page=471\"\n",
    "response = requests.get(api_endpoint)"
   ]
  },
  {
   "cell_type": "code",
   "execution_count": 18,
   "id": "3d4d180b",
   "metadata": {},
   "outputs": [
    {
     "name": "stdout",
     "output_type": "stream",
     "text": [
      "data fetched sucessfully\n"
     ]
    }
   ],
   "source": [
    "if response.status_code == 200:\n",
    "    print(\"data fetched sucessfully\")\n",
    "else:\n",
    "    print(\"Error fetching data,Status code\",response.status_code)"
   ]
  },
  {
   "cell_type": "code",
   "execution_count": 19,
   "id": "e9b4bad8",
   "metadata": {},
   "outputs": [],
   "source": [
    "data = response.json()"
   ]
  },
  {
   "cell_type": "code",
   "execution_count": 20,
   "id": "65d33267",
   "metadata": {},
   "outputs": [
    {
     "data": {
      "text/plain": [
       "{'page': 471, 'results': [], 'total_pages': 465, 'total_results': 9296}"
      ]
     },
     "execution_count": 20,
     "metadata": {},
     "output_type": "execute_result"
    }
   ],
   "source": [
    "data"
   ]
  },
  {
   "cell_type": "code",
   "execution_count": 23,
   "id": "da3358a9",
   "metadata": {},
   "outputs": [],
   "source": [
    "import pandas as pd\n",
    "\n",
    "all_data = []\n",
    "total_pages = data['total_pages']\n",
    "\n",
    "base_url = \"https://api.themoviedb.org/3/movie/top_rated?api_key=8265bd1679663a7ea12ac168da84d2e8&language=en-US&page=471\"\n",
    "for page_number in range(1, total_pages + 1):\n",
    "    api_endpoint = f\"{base_url}&page={page_number}\"\n",
    "    response = requests.get(api_endpoint)\n",
    "    if response.status_code == 200:\n",
    "        page_data = response.json()\n",
    "        all_data.extend(page_data['results'])\n",
    "\n",
    "df = pd.DataFrame(all_data)\n"
   ]
  },
  {
   "cell_type": "code",
   "execution_count": 24,
   "id": "88ff3bf2",
   "metadata": {},
   "outputs": [
    {
     "data": {
      "text/html": [
       "<div>\n",
       "<style scoped>\n",
       "    .dataframe tbody tr th:only-of-type {\n",
       "        vertical-align: middle;\n",
       "    }\n",
       "\n",
       "    .dataframe tbody tr th {\n",
       "        vertical-align: top;\n",
       "    }\n",
       "\n",
       "    .dataframe thead th {\n",
       "        text-align: right;\n",
       "    }\n",
       "</style>\n",
       "<table border=\"1\" class=\"dataframe\">\n",
       "  <thead>\n",
       "    <tr style=\"text-align: right;\">\n",
       "      <th></th>\n",
       "      <th>adult</th>\n",
       "      <th>backdrop_path</th>\n",
       "      <th>genre_ids</th>\n",
       "      <th>id</th>\n",
       "      <th>original_language</th>\n",
       "      <th>original_title</th>\n",
       "      <th>overview</th>\n",
       "      <th>popularity</th>\n",
       "      <th>poster_path</th>\n",
       "      <th>release_date</th>\n",
       "      <th>title</th>\n",
       "      <th>video</th>\n",
       "      <th>vote_average</th>\n",
       "      <th>vote_count</th>\n",
       "    </tr>\n",
       "  </thead>\n",
       "  <tbody>\n",
       "    <tr>\n",
       "      <th>0</th>\n",
       "      <td>False</td>\n",
       "      <td>/kXfqcdQKsToO0OUXHcrrNCHDBzO.jpg</td>\n",
       "      <td>[18, 80]</td>\n",
       "      <td>278</td>\n",
       "      <td>en</td>\n",
       "      <td>The Shawshank Redemption</td>\n",
       "      <td>Framed in the 1940s for the double murder of h...</td>\n",
       "      <td>128.873</td>\n",
       "      <td>/9cqNxx0GxF0bflZmeSMuL5tnGzr.jpg</td>\n",
       "      <td>1994-09-23</td>\n",
       "      <td>The Shawshank Redemption</td>\n",
       "      <td>False</td>\n",
       "      <td>8.704</td>\n",
       "      <td>25986</td>\n",
       "    </tr>\n",
       "    <tr>\n",
       "      <th>1</th>\n",
       "      <td>False</td>\n",
       "      <td>/tmU7GeKVybMWFButWEGl2M4GeiP.jpg</td>\n",
       "      <td>[18, 80]</td>\n",
       "      <td>238</td>\n",
       "      <td>en</td>\n",
       "      <td>The Godfather</td>\n",
       "      <td>Spanning the years 1945 to 1955, a chronicle o...</td>\n",
       "      <td>138.085</td>\n",
       "      <td>/3bhkrj58Vtu7enYsRolD1fZdja1.jpg</td>\n",
       "      <td>1972-03-14</td>\n",
       "      <td>The Godfather</td>\n",
       "      <td>False</td>\n",
       "      <td>8.695</td>\n",
       "      <td>19705</td>\n",
       "    </tr>\n",
       "    <tr>\n",
       "      <th>2</th>\n",
       "      <td>False</td>\n",
       "      <td>/kGzFbGhp99zva6oZODW5atUtnqi.jpg</td>\n",
       "      <td>[18, 80]</td>\n",
       "      <td>240</td>\n",
       "      <td>en</td>\n",
       "      <td>The Godfather Part II</td>\n",
       "      <td>In the continuing saga of the Corleone crime f...</td>\n",
       "      <td>97.561</td>\n",
       "      <td>/hek3koDUyRQk7FIhPXsa6mT2Zc3.jpg</td>\n",
       "      <td>1974-12-20</td>\n",
       "      <td>The Godfather Part II</td>\n",
       "      <td>False</td>\n",
       "      <td>8.577</td>\n",
       "      <td>11903</td>\n",
       "    </tr>\n",
       "    <tr>\n",
       "      <th>3</th>\n",
       "      <td>False</td>\n",
       "      <td>/zb6fM1CX41D9rF9hdgclu0peUmy.jpg</td>\n",
       "      <td>[18, 36, 10752]</td>\n",
       "      <td>424</td>\n",
       "      <td>en</td>\n",
       "      <td>Schindler's List</td>\n",
       "      <td>The true story of how businessman Oskar Schind...</td>\n",
       "      <td>87.458</td>\n",
       "      <td>/sF1U4EUQS8YHUYjNl3pMGNIQyr0.jpg</td>\n",
       "      <td>1993-12-15</td>\n",
       "      <td>Schindler's List</td>\n",
       "      <td>False</td>\n",
       "      <td>8.567</td>\n",
       "      <td>15300</td>\n",
       "    </tr>\n",
       "    <tr>\n",
       "      <th>4</th>\n",
       "      <td>False</td>\n",
       "      <td>/qqHQsStV6exghCM7zbObuYBiYxw.jpg</td>\n",
       "      <td>[18]</td>\n",
       "      <td>389</td>\n",
       "      <td>en</td>\n",
       "      <td>12 Angry Men</td>\n",
       "      <td>The defense and the prosecution have rested an...</td>\n",
       "      <td>61.191</td>\n",
       "      <td>/ow3wq89wM8qd5X7hWKxiRfsFf9C.jpg</td>\n",
       "      <td>1957-04-10</td>\n",
       "      <td>12 Angry Men</td>\n",
       "      <td>False</td>\n",
       "      <td>8.500</td>\n",
       "      <td>8182</td>\n",
       "    </tr>\n",
       "  </tbody>\n",
       "</table>\n",
       "</div>"
      ],
      "text/plain": [
       "   adult                     backdrop_path        genre_ids   id  \\\n",
       "0  False  /kXfqcdQKsToO0OUXHcrrNCHDBzO.jpg         [18, 80]  278   \n",
       "1  False  /tmU7GeKVybMWFButWEGl2M4GeiP.jpg         [18, 80]  238   \n",
       "2  False  /kGzFbGhp99zva6oZODW5atUtnqi.jpg         [18, 80]  240   \n",
       "3  False  /zb6fM1CX41D9rF9hdgclu0peUmy.jpg  [18, 36, 10752]  424   \n",
       "4  False  /qqHQsStV6exghCM7zbObuYBiYxw.jpg             [18]  389   \n",
       "\n",
       "  original_language            original_title  \\\n",
       "0                en  The Shawshank Redemption   \n",
       "1                en             The Godfather   \n",
       "2                en     The Godfather Part II   \n",
       "3                en          Schindler's List   \n",
       "4                en              12 Angry Men   \n",
       "\n",
       "                                            overview  popularity  \\\n",
       "0  Framed in the 1940s for the double murder of h...     128.873   \n",
       "1  Spanning the years 1945 to 1955, a chronicle o...     138.085   \n",
       "2  In the continuing saga of the Corleone crime f...      97.561   \n",
       "3  The true story of how businessman Oskar Schind...      87.458   \n",
       "4  The defense and the prosecution have rested an...      61.191   \n",
       "\n",
       "                        poster_path release_date                     title  \\\n",
       "0  /9cqNxx0GxF0bflZmeSMuL5tnGzr.jpg   1994-09-23  The Shawshank Redemption   \n",
       "1  /3bhkrj58Vtu7enYsRolD1fZdja1.jpg   1972-03-14             The Godfather   \n",
       "2  /hek3koDUyRQk7FIhPXsa6mT2Zc3.jpg   1974-12-20     The Godfather Part II   \n",
       "3  /sF1U4EUQS8YHUYjNl3pMGNIQyr0.jpg   1993-12-15          Schindler's List   \n",
       "4  /ow3wq89wM8qd5X7hWKxiRfsFf9C.jpg   1957-04-10              12 Angry Men   \n",
       "\n",
       "   video  vote_average  vote_count  \n",
       "0  False         8.704       25986  \n",
       "1  False         8.695       19705  \n",
       "2  False         8.577       11903  \n",
       "3  False         8.567       15300  \n",
       "4  False         8.500        8182  "
      ]
     },
     "execution_count": 24,
     "metadata": {},
     "output_type": "execute_result"
    }
   ],
   "source": [
    "df.head(5)"
   ]
  },
  {
   "cell_type": "code",
   "execution_count": 25,
   "id": "6e8f1813",
   "metadata": {},
   "outputs": [
    {
     "data": {
      "text/plain": [
       "(9300, 14)"
      ]
     },
     "execution_count": 25,
     "metadata": {},
     "output_type": "execute_result"
    }
   ],
   "source": [
    "df.shape"
   ]
  },
  {
   "cell_type": "code",
   "execution_count": 26,
   "id": "2e51750a",
   "metadata": {},
   "outputs": [
    {
     "name": "stdout",
     "output_type": "stream",
     "text": [
      "<class 'pandas.core.frame.DataFrame'>\n",
      "RangeIndex: 9300 entries, 0 to 9299\n",
      "Data columns (total 14 columns):\n",
      " #   Column             Non-Null Count  Dtype  \n",
      "---  ------             --------------  -----  \n",
      " 0   adult              9300 non-null   bool   \n",
      " 1   backdrop_path      9300 non-null   object \n",
      " 2   genre_ids          9300 non-null   object \n",
      " 3   id                 9300 non-null   int64  \n",
      " 4   original_language  9300 non-null   object \n",
      " 5   original_title     9300 non-null   object \n",
      " 6   overview           9300 non-null   object \n",
      " 7   popularity         9300 non-null   float64\n",
      " 8   poster_path        9300 non-null   object \n",
      " 9   release_date       9300 non-null   object \n",
      " 10  title              9300 non-null   object \n",
      " 11  video              9300 non-null   bool   \n",
      " 12  vote_average       9300 non-null   float64\n",
      " 13  vote_count         9300 non-null   int64  \n",
      "dtypes: bool(2), float64(2), int64(2), object(8)\n",
      "memory usage: 890.2+ KB\n"
     ]
    }
   ],
   "source": [
    "df.info()"
   ]
  },
  {
   "cell_type": "code",
   "execution_count": 141,
   "id": "76b816ba",
   "metadata": {},
   "outputs": [
    {
     "data": {
      "text/plain": [
       "0              [18, 80]\n",
       "1              [18, 80]\n",
       "2              [18, 80]\n",
       "3       [18, 36, 10752]\n",
       "4                  [18]\n",
       "             ...       \n",
       "9295           [18, 80]\n",
       "9296    [16, 18, 10752]\n",
       "9297        [18, 10749]\n",
       "9298           [28, 18]\n",
       "9299           [35, 18]\n",
       "Name: genre_ids, Length: 9300, dtype: object"
      ]
     },
     "execution_count": 141,
     "metadata": {},
     "output_type": "execute_result"
    }
   ],
   "source": [
    "df['genre_ids']"
   ]
  },
  {
   "cell_type": "code",
   "execution_count": 89,
   "id": "80ad2588",
   "metadata": {},
   "outputs": [],
   "source": [
    "new_df = pd.concat([df['title'],df['overview'],df['genre_ids']],axis=1)"
   ]
  },
  {
   "cell_type": "code",
   "execution_count": 90,
   "id": "f27a0abd",
   "metadata": {},
   "outputs": [
    {
     "data": {
      "text/html": [
       "<div>\n",
       "<style scoped>\n",
       "    .dataframe tbody tr th:only-of-type {\n",
       "        vertical-align: middle;\n",
       "    }\n",
       "\n",
       "    .dataframe tbody tr th {\n",
       "        vertical-align: top;\n",
       "    }\n",
       "\n",
       "    .dataframe thead th {\n",
       "        text-align: right;\n",
       "    }\n",
       "</style>\n",
       "<table border=\"1\" class=\"dataframe\">\n",
       "  <thead>\n",
       "    <tr style=\"text-align: right;\">\n",
       "      <th></th>\n",
       "      <th>title</th>\n",
       "      <th>overview</th>\n",
       "      <th>genre_ids</th>\n",
       "    </tr>\n",
       "  </thead>\n",
       "  <tbody>\n",
       "    <tr>\n",
       "      <th>0</th>\n",
       "      <td>The Shawshank Redemption</td>\n",
       "      <td>Framed in the 1940s for the double murder of h...</td>\n",
       "      <td>[18, 80]</td>\n",
       "    </tr>\n",
       "    <tr>\n",
       "      <th>1</th>\n",
       "      <td>The Godfather</td>\n",
       "      <td>Spanning the years 1945 to 1955, a chronicle o...</td>\n",
       "      <td>[18, 80]</td>\n",
       "    </tr>\n",
       "    <tr>\n",
       "      <th>2</th>\n",
       "      <td>The Godfather Part II</td>\n",
       "      <td>In the continuing saga of the Corleone crime f...</td>\n",
       "      <td>[18, 80]</td>\n",
       "    </tr>\n",
       "    <tr>\n",
       "      <th>3</th>\n",
       "      <td>Schindler's List</td>\n",
       "      <td>The true story of how businessman Oskar Schind...</td>\n",
       "      <td>[18, 36, 10752]</td>\n",
       "    </tr>\n",
       "    <tr>\n",
       "      <th>4</th>\n",
       "      <td>12 Angry Men</td>\n",
       "      <td>The defense and the prosecution have rested an...</td>\n",
       "      <td>[18]</td>\n",
       "    </tr>\n",
       "  </tbody>\n",
       "</table>\n",
       "</div>"
      ],
      "text/plain": [
       "                      title  \\\n",
       "0  The Shawshank Redemption   \n",
       "1             The Godfather   \n",
       "2     The Godfather Part II   \n",
       "3          Schindler's List   \n",
       "4              12 Angry Men   \n",
       "\n",
       "                                            overview        genre_ids  \n",
       "0  Framed in the 1940s for the double murder of h...         [18, 80]  \n",
       "1  Spanning the years 1945 to 1955, a chronicle o...         [18, 80]  \n",
       "2  In the continuing saga of the Corleone crime f...         [18, 80]  \n",
       "3  The true story of how businessman Oskar Schind...  [18, 36, 10752]  \n",
       "4  The defense and the prosecution have rested an...             [18]  "
      ]
     },
     "execution_count": 90,
     "metadata": {},
     "output_type": "execute_result"
    }
   ],
   "source": [
    "new_df.head(5)"
   ]
  },
  {
   "cell_type": "code",
   "execution_count": 52,
   "id": "121ce476",
   "metadata": {},
   "outputs": [],
   "source": [
    "api_endpoint1 = \"https://api.themoviedb.org/3/genre/movie/list?api_key=8265bd1679663a7ea12ac168da84d2e8&language=en-US\"\n",
    "response1 = requests.get(api_endpoint)"
   ]
  },
  {
   "cell_type": "code",
   "execution_count": 55,
   "id": "513e9b4a",
   "metadata": {},
   "outputs": [
    {
     "data": {
      "text/plain": [
       "{'genres': [{'id': 28, 'name': 'Action'},\n",
       "  {'id': 12, 'name': 'Adventure'},\n",
       "  {'id': 16, 'name': 'Animation'},\n",
       "  {'id': 35, 'name': 'Comedy'},\n",
       "  {'id': 80, 'name': 'Crime'},\n",
       "  {'id': 99, 'name': 'Documentary'},\n",
       "  {'id': 18, 'name': 'Drama'},\n",
       "  {'id': 10751, 'name': 'Family'},\n",
       "  {'id': 14, 'name': 'Fantasy'},\n",
       "  {'id': 36, 'name': 'History'},\n",
       "  {'id': 27, 'name': 'Horror'},\n",
       "  {'id': 10402, 'name': 'Music'},\n",
       "  {'id': 9648, 'name': 'Mystery'},\n",
       "  {'id': 10749, 'name': 'Romance'},\n",
       "  {'id': 878, 'name': 'Science Fiction'},\n",
       "  {'id': 10770, 'name': 'TV Movie'},\n",
       "  {'id': 53, 'name': 'Thriller'},\n",
       "  {'id': 10752, 'name': 'War'},\n",
       "  {'id': 37, 'name': 'Western'}]}"
      ]
     },
     "execution_count": 55,
     "metadata": {},
     "output_type": "execute_result"
    }
   ],
   "source": [
    "data1 = response.json()\n",
    "data1"
   ]
  },
  {
   "cell_type": "code",
   "execution_count": 60,
   "id": "c2d99839",
   "metadata": {},
   "outputs": [],
   "source": [
    "genres_data = data1['genres']\n",
    "df1 = pd.DataFrame(genres_data,columns=['id','name'])"
   ]
  },
  {
   "cell_type": "code",
   "execution_count": 61,
   "id": "15adb1bf",
   "metadata": {},
   "outputs": [
    {
     "data": {
      "text/html": [
       "<div>\n",
       "<style scoped>\n",
       "    .dataframe tbody tr th:only-of-type {\n",
       "        vertical-align: middle;\n",
       "    }\n",
       "\n",
       "    .dataframe tbody tr th {\n",
       "        vertical-align: top;\n",
       "    }\n",
       "\n",
       "    .dataframe thead th {\n",
       "        text-align: right;\n",
       "    }\n",
       "</style>\n",
       "<table border=\"1\" class=\"dataframe\">\n",
       "  <thead>\n",
       "    <tr style=\"text-align: right;\">\n",
       "      <th></th>\n",
       "      <th>id</th>\n",
       "      <th>name</th>\n",
       "    </tr>\n",
       "  </thead>\n",
       "  <tbody>\n",
       "    <tr>\n",
       "      <th>0</th>\n",
       "      <td>28</td>\n",
       "      <td>Action</td>\n",
       "    </tr>\n",
       "    <tr>\n",
       "      <th>1</th>\n",
       "      <td>12</td>\n",
       "      <td>Adventure</td>\n",
       "    </tr>\n",
       "    <tr>\n",
       "      <th>2</th>\n",
       "      <td>16</td>\n",
       "      <td>Animation</td>\n",
       "    </tr>\n",
       "    <tr>\n",
       "      <th>3</th>\n",
       "      <td>35</td>\n",
       "      <td>Comedy</td>\n",
       "    </tr>\n",
       "    <tr>\n",
       "      <th>4</th>\n",
       "      <td>80</td>\n",
       "      <td>Crime</td>\n",
       "    </tr>\n",
       "    <tr>\n",
       "      <th>5</th>\n",
       "      <td>99</td>\n",
       "      <td>Documentary</td>\n",
       "    </tr>\n",
       "    <tr>\n",
       "      <th>6</th>\n",
       "      <td>18</td>\n",
       "      <td>Drama</td>\n",
       "    </tr>\n",
       "    <tr>\n",
       "      <th>7</th>\n",
       "      <td>10751</td>\n",
       "      <td>Family</td>\n",
       "    </tr>\n",
       "    <tr>\n",
       "      <th>8</th>\n",
       "      <td>14</td>\n",
       "      <td>Fantasy</td>\n",
       "    </tr>\n",
       "    <tr>\n",
       "      <th>9</th>\n",
       "      <td>36</td>\n",
       "      <td>History</td>\n",
       "    </tr>\n",
       "    <tr>\n",
       "      <th>10</th>\n",
       "      <td>27</td>\n",
       "      <td>Horror</td>\n",
       "    </tr>\n",
       "    <tr>\n",
       "      <th>11</th>\n",
       "      <td>10402</td>\n",
       "      <td>Music</td>\n",
       "    </tr>\n",
       "    <tr>\n",
       "      <th>12</th>\n",
       "      <td>9648</td>\n",
       "      <td>Mystery</td>\n",
       "    </tr>\n",
       "    <tr>\n",
       "      <th>13</th>\n",
       "      <td>10749</td>\n",
       "      <td>Romance</td>\n",
       "    </tr>\n",
       "    <tr>\n",
       "      <th>14</th>\n",
       "      <td>878</td>\n",
       "      <td>Science Fiction</td>\n",
       "    </tr>\n",
       "    <tr>\n",
       "      <th>15</th>\n",
       "      <td>10770</td>\n",
       "      <td>TV Movie</td>\n",
       "    </tr>\n",
       "    <tr>\n",
       "      <th>16</th>\n",
       "      <td>53</td>\n",
       "      <td>Thriller</td>\n",
       "    </tr>\n",
       "    <tr>\n",
       "      <th>17</th>\n",
       "      <td>10752</td>\n",
       "      <td>War</td>\n",
       "    </tr>\n",
       "    <tr>\n",
       "      <th>18</th>\n",
       "      <td>37</td>\n",
       "      <td>Western</td>\n",
       "    </tr>\n",
       "  </tbody>\n",
       "</table>\n",
       "</div>"
      ],
      "text/plain": [
       "       id             name\n",
       "0      28           Action\n",
       "1      12        Adventure\n",
       "2      16        Animation\n",
       "3      35           Comedy\n",
       "4      80            Crime\n",
       "5      99      Documentary\n",
       "6      18            Drama\n",
       "7   10751           Family\n",
       "8      14          Fantasy\n",
       "9      36          History\n",
       "10     27           Horror\n",
       "11  10402            Music\n",
       "12   9648          Mystery\n",
       "13  10749          Romance\n",
       "14    878  Science Fiction\n",
       "15  10770         TV Movie\n",
       "16     53         Thriller\n",
       "17  10752              War\n",
       "18     37          Western"
      ]
     },
     "execution_count": 61,
     "metadata": {},
     "output_type": "execute_result"
    }
   ],
   "source": [
    "df1"
   ]
  },
  {
   "cell_type": "code",
   "execution_count": 91,
   "id": "4b77f2bb",
   "metadata": {},
   "outputs": [],
   "source": [
    "new_df['genrs_name'] = new_df['genre_ids'].apply(lambda x: [df1[df1['id']==id]['name'].values[0] for id in x])"
   ]
  },
  {
   "cell_type": "code",
   "execution_count": 70,
   "id": "45eb28a4",
   "metadata": {},
   "outputs": [
    {
     "data": {
      "text/html": [
       "<div>\n",
       "<style scoped>\n",
       "    .dataframe tbody tr th:only-of-type {\n",
       "        vertical-align: middle;\n",
       "    }\n",
       "\n",
       "    .dataframe tbody tr th {\n",
       "        vertical-align: top;\n",
       "    }\n",
       "\n",
       "    .dataframe thead th {\n",
       "        text-align: right;\n",
       "    }\n",
       "</style>\n",
       "<table border=\"1\" class=\"dataframe\">\n",
       "  <thead>\n",
       "    <tr style=\"text-align: right;\">\n",
       "      <th></th>\n",
       "      <th>title</th>\n",
       "      <th>overview</th>\n",
       "      <th>genre_ids</th>\n",
       "      <th>genrs_name</th>\n",
       "    </tr>\n",
       "  </thead>\n",
       "  <tbody>\n",
       "    <tr>\n",
       "      <th>0</th>\n",
       "      <td>The Shawshank Redemption</td>\n",
       "      <td>Framed in the 1940s for the double murder of h...</td>\n",
       "      <td>[18, 80]</td>\n",
       "      <td>[Drama, Crime]</td>\n",
       "    </tr>\n",
       "    <tr>\n",
       "      <th>1</th>\n",
       "      <td>The Godfather</td>\n",
       "      <td>Spanning the years 1945 to 1955, a chronicle o...</td>\n",
       "      <td>[18, 80]</td>\n",
       "      <td>[Drama, Crime]</td>\n",
       "    </tr>\n",
       "    <tr>\n",
       "      <th>2</th>\n",
       "      <td>The Godfather Part II</td>\n",
       "      <td>In the continuing saga of the Corleone crime f...</td>\n",
       "      <td>[18, 80]</td>\n",
       "      <td>[Drama, Crime]</td>\n",
       "    </tr>\n",
       "    <tr>\n",
       "      <th>3</th>\n",
       "      <td>Schindler's List</td>\n",
       "      <td>The true story of how businessman Oskar Schind...</td>\n",
       "      <td>[18, 36, 10752]</td>\n",
       "      <td>[Drama, History, War]</td>\n",
       "    </tr>\n",
       "    <tr>\n",
       "      <th>4</th>\n",
       "      <td>12 Angry Men</td>\n",
       "      <td>The defense and the prosecution have rested an...</td>\n",
       "      <td>[18]</td>\n",
       "      <td>[Drama]</td>\n",
       "    </tr>\n",
       "    <tr>\n",
       "      <th>...</th>\n",
       "      <td>...</td>\n",
       "      <td>...</td>\n",
       "      <td>...</td>\n",
       "      <td>...</td>\n",
       "    </tr>\n",
       "    <tr>\n",
       "      <th>9295</th>\n",
       "      <td>GoodFellas</td>\n",
       "      <td>The true story of Henry Hill, a half-Irish, ha...</td>\n",
       "      <td>[18, 80]</td>\n",
       "      <td>[Drama, Crime]</td>\n",
       "    </tr>\n",
       "    <tr>\n",
       "      <th>9296</th>\n",
       "      <td>Grave of the Fireflies</td>\n",
       "      <td>In the final months of World War II, 14-year-o...</td>\n",
       "      <td>[16, 18, 10752]</td>\n",
       "      <td>[Animation, Drama, War]</td>\n",
       "    </tr>\n",
       "    <tr>\n",
       "      <th>9297</th>\n",
       "      <td>Cinema Paradiso</td>\n",
       "      <td>A filmmaker recalls his childhood, when he fel...</td>\n",
       "      <td>[18, 10749]</td>\n",
       "      <td>[Drama, Romance]</td>\n",
       "    </tr>\n",
       "    <tr>\n",
       "      <th>9298</th>\n",
       "      <td>Seven Samurai</td>\n",
       "      <td>A samurai answers a village's request for prot...</td>\n",
       "      <td>[28, 18]</td>\n",
       "      <td>[Action, Drama]</td>\n",
       "    </tr>\n",
       "    <tr>\n",
       "      <th>9299</th>\n",
       "      <td>Life Is Beautiful</td>\n",
       "      <td>A touching story of an Italian book seller of ...</td>\n",
       "      <td>[35, 18]</td>\n",
       "      <td>[Comedy, Drama]</td>\n",
       "    </tr>\n",
       "  </tbody>\n",
       "</table>\n",
       "<p>9300 rows × 4 columns</p>\n",
       "</div>"
      ],
      "text/plain": [
       "                         title  \\\n",
       "0     The Shawshank Redemption   \n",
       "1                The Godfather   \n",
       "2        The Godfather Part II   \n",
       "3             Schindler's List   \n",
       "4                 12 Angry Men   \n",
       "...                        ...   \n",
       "9295                GoodFellas   \n",
       "9296    Grave of the Fireflies   \n",
       "9297           Cinema Paradiso   \n",
       "9298             Seven Samurai   \n",
       "9299         Life Is Beautiful   \n",
       "\n",
       "                                               overview        genre_ids  \\\n",
       "0     Framed in the 1940s for the double murder of h...         [18, 80]   \n",
       "1     Spanning the years 1945 to 1955, a chronicle o...         [18, 80]   \n",
       "2     In the continuing saga of the Corleone crime f...         [18, 80]   \n",
       "3     The true story of how businessman Oskar Schind...  [18, 36, 10752]   \n",
       "4     The defense and the prosecution have rested an...             [18]   \n",
       "...                                                 ...              ...   \n",
       "9295  The true story of Henry Hill, a half-Irish, ha...         [18, 80]   \n",
       "9296  In the final months of World War II, 14-year-o...  [16, 18, 10752]   \n",
       "9297  A filmmaker recalls his childhood, when he fel...      [18, 10749]   \n",
       "9298  A samurai answers a village's request for prot...         [28, 18]   \n",
       "9299  A touching story of an Italian book seller of ...         [35, 18]   \n",
       "\n",
       "                   genrs_name  \n",
       "0              [Drama, Crime]  \n",
       "1              [Drama, Crime]  \n",
       "2              [Drama, Crime]  \n",
       "3       [Drama, History, War]  \n",
       "4                     [Drama]  \n",
       "...                       ...  \n",
       "9295           [Drama, Crime]  \n",
       "9296  [Animation, Drama, War]  \n",
       "9297         [Drama, Romance]  \n",
       "9298          [Action, Drama]  \n",
       "9299          [Comedy, Drama]  \n",
       "\n",
       "[9300 rows x 4 columns]"
      ]
     },
     "execution_count": 70,
     "metadata": {},
     "output_type": "execute_result"
    }
   ],
   "source": [
    "new_df"
   ]
  },
  {
   "cell_type": "code",
   "execution_count": 92,
   "id": "f80d7109",
   "metadata": {},
   "outputs": [],
   "source": [
    "new_df['overview'] = new_df['overview'].str.lower()"
   ]
  },
  {
   "cell_type": "code",
   "execution_count": 93,
   "id": "8ef67e5c",
   "metadata": {},
   "outputs": [
    {
     "data": {
      "text/plain": [
       "0       framed in the 1940s for the double murder of h...\n",
       "1       spanning the years 1945 to 1955, a chronicle o...\n",
       "2       in the continuing saga of the corleone crime f...\n",
       "3       the true story of how businessman oskar schind...\n",
       "4       the defense and the prosecution have rested an...\n",
       "                              ...                        \n",
       "9295    the true story of henry hill, a half-irish, ha...\n",
       "9296    in the final months of world war ii, 14-year-o...\n",
       "9297    a filmmaker recalls his childhood, when he fel...\n",
       "9298    a samurai answers a village's request for prot...\n",
       "9299    a touching story of an italian book seller of ...\n",
       "Name: overview, Length: 9300, dtype: object"
      ]
     },
     "execution_count": 93,
     "metadata": {},
     "output_type": "execute_result"
    }
   ],
   "source": [
    "new_df['overview']"
   ]
  },
  {
   "cell_type": "code",
   "execution_count": 94,
   "id": "c102899c",
   "metadata": {},
   "outputs": [],
   "source": [
    "from nltk.corpus import stopwords"
   ]
  },
  {
   "cell_type": "code",
   "execution_count": 95,
   "id": "d75beca3",
   "metadata": {},
   "outputs": [],
   "source": [
    "def remove_stopwords(text):\n",
    "    stop_words = set(stopwords.words('english'))\n",
    "    words = text.split()\n",
    "    filtered_words = [word for word in words if word.lower() not in stop_words]\n",
    "    return \" \".join(filtered_words)"
   ]
  },
  {
   "cell_type": "code",
   "execution_count": 96,
   "id": "52acb5e3",
   "metadata": {},
   "outputs": [],
   "source": [
    "new_df['overview'] = new_df['overview'].apply(remove_stopwords)"
   ]
  },
  {
   "cell_type": "code",
   "execution_count": 98,
   "id": "3965dabc",
   "metadata": {},
   "outputs": [
    {
     "data": {
      "text/plain": [
       "0       framed 1940s double murder wife lover, upstand...\n",
       "1       spanning years 1945 1955, chronicle fictional ...\n",
       "2       continuing saga corleone crime family, young v...\n",
       "3       true story businessman oskar schindler saved t...\n",
       "4       defense prosecution rested jury filing jury ro...\n",
       "                              ...                        \n",
       "9295    true story henry hill, half-irish, half-sicili...\n",
       "9296    final months world war ii, 14-year-old seita s...\n",
       "9297    filmmaker recalls childhood, fell love movies ...\n",
       "9298    samurai answers village's request protection f...\n",
       "9299    touching story italian book seller jewish ance...\n",
       "Name: overview, Length: 9300, dtype: object"
      ]
     },
     "execution_count": 98,
     "metadata": {},
     "output_type": "execute_result"
    }
   ],
   "source": [
    "new_df['overview']"
   ]
  },
  {
   "cell_type": "code",
   "execution_count": 145,
   "id": "bf329195",
   "metadata": {},
   "outputs": [
    {
     "name": "stdout",
     "output_type": "stream",
     "text": [
      "No HTML tags found in the 'overview' column.\n"
     ]
    }
   ],
   "source": [
    "import re\n",
    "\n",
    "def has_html_tags(text):\n",
    "    pattern = r'<[^>]*>'  # Regular expression pattern to match HTML tags\n",
    "    return re.search(pattern, text) is not None\n",
    "\n",
    "# Apply the has_html_tags function to the 'overview' column of DataFrame\n",
    "has_html = new_df['overview'].apply(has_html_tags)\n",
    "\n",
    "# Check if any rows have HTML tags\n",
    "if has_html.any():\n",
    "    print(\"HTML tags are present in the 'overview' column.\")\n",
    "else:\n",
    "    print(\"No HTML tags found in the 'overview' column.\")"
   ]
  },
  {
   "cell_type": "code",
   "execution_count": 112,
   "id": "d0fbed0b",
   "metadata": {},
   "outputs": [],
   "source": [
    "import string\n",
    "import nltk\n",
    "\n",
    "def remove_punctuations(text):\n",
    "    punctuations = set(string.punctuation)\n",
    "    sentence_words = nltk.word_tokenize(text)\n",
    "    filtered_words = [word for word in sentence_words if word not in punctuations]\n",
    "    return \" \".join(filtered_words)"
   ]
  },
  {
   "cell_type": "code",
   "execution_count": 114,
   "id": "382c4a65",
   "metadata": {},
   "outputs": [],
   "source": [
    "new_df['overview'] = new_df['overview'].apply(remove_punctuations)"
   ]
  },
  {
   "cell_type": "code",
   "execution_count": 119,
   "id": "16292229",
   "metadata": {},
   "outputs": [
    {
     "name": "stderr",
     "output_type": "stream",
     "text": [
      "[nltk_data] Downloading package averaged_perceptron_tagger to\n",
      "[nltk_data]     C:\\Users\\ASUS\\AppData\\Roaming\\nltk_data...\n",
      "[nltk_data]   Unzipping taggers\\averaged_perceptron_tagger.zip.\n"
     ]
    }
   ],
   "source": [
    "wordnet_lemmatizer = WordNetLemmatizer()\n",
    "\n",
    "from nltk import pos_tag\n",
    "from nltk.corpus import wordnet\n",
    "nltk.download('averaged_perceptron_tagger')\n",
    "\n",
    "def get_wordnet_pos(tag):\n",
    "    if tag.startswith('J'):\n",
    "        return wordnet.ADJ\n",
    "    elif tag.startswith('V'):\n",
    "        return wordnet.VERB\n",
    "    elif tag.startswith('N'):\n",
    "        return wordnet.NOUN\n",
    "    elif tag.startswith('R'):\n",
    "        return wordnet.ADV\n",
    "    else:\n",
    "        return wordnet.NOUN  # Default to noun if the tag is unknown\n",
    "\n",
    "def lemmatize_sentence(sentence):\n",
    "    words = nltk.word_tokenize(sentence)\n",
    "    tagged_words = pos_tag(words)\n",
    "    lemmatized_words = [wordnet_lemmatizer.lemmatize(word, get_wordnet_pos(tag)) for word, tag in tagged_words]\n",
    "    return ' '.join(lemmatized_words)\n",
    "\n",
    "new_df['overview'] = new_df['overview'].apply(lemmatize_sentence)"
   ]
  },
  {
   "cell_type": "code",
   "execution_count": 120,
   "id": "037d3f11",
   "metadata": {},
   "outputs": [
    {
     "data": {
      "text/plain": [
       "0       frame 1940s double murder wife lover upstandin...\n",
       "1       span year 1945 1955 chronicle fictional italia...\n",
       "2       continue saga corleone crime family young vito...\n",
       "3       true story businessman oskar schindler save th...\n",
       "4       defense prosecution rest jury filing jury room...\n",
       "                              ...                        \n",
       "9295    true story henry hill half-irish half-sicilian...\n",
       "9296    final month world war ii 14-year-old seita sis...\n",
       "9297    filmmaker recall childhood fell love movie vil...\n",
       "9298    samurai answer village 's request protection f...\n",
       "9299    touch story italian book seller jewish ancestr...\n",
       "Name: overview, Length: 9300, dtype: object"
      ]
     },
     "execution_count": 120,
     "metadata": {},
     "output_type": "execute_result"
    }
   ],
   "source": [
    "new_df['overview'] "
   ]
  },
  {
   "cell_type": "code",
   "execution_count": 130,
   "id": "48a67ea8",
   "metadata": {},
   "outputs": [],
   "source": [
    "import re\n",
    "\n",
    "def remove_special_chars(text):\n",
    "    # Define the pattern to match special characters using regular expression\n",
    "    pattern = r'[^a-zA-Z0-9\\s]'  # Keep alphanumeric characters and spaces\n",
    "\n",
    "    cleaned_text = re.sub(pattern, '', text)\n",
    "    return cleaned_text"
   ]
  },
  {
   "cell_type": "code",
   "execution_count": 131,
   "id": "a093f5d1",
   "metadata": {},
   "outputs": [],
   "source": [
    "new_df['overview'] = new_df['overview'].apply(remove_special_chars)"
   ]
  },
  {
   "cell_type": "code",
   "execution_count": 132,
   "id": "d88cfa63",
   "metadata": {},
   "outputs": [
    {
     "data": {
      "text/plain": [
       "0       frame 1940s double murder wife lover upstandin...\n",
       "1       span year 1945 1955 chronicle fictional italia...\n",
       "2       continue saga corleone crime family young vito...\n",
       "3       true story businessman oskar schindler save th...\n",
       "4       defense prosecution rest jury filing jury room...\n",
       "                              ...                        \n",
       "9295    true story henry hill halfirish halfsicilian b...\n",
       "9296    final month world war ii 14yearold seita siste...\n",
       "9297    filmmaker recall childhood fell love movie vil...\n",
       "9298    samurai answer village s request protection fa...\n",
       "9299    touch story italian book seller jewish ancestr...\n",
       "Name: overview, Length: 9300, dtype: object"
      ]
     },
     "execution_count": 132,
     "metadata": {},
     "output_type": "execute_result"
    }
   ],
   "source": [
    "new_df['overview']"
   ]
  },
  {
   "cell_type": "code",
   "execution_count": 146,
   "id": "c4a7b349",
   "metadata": {},
   "outputs": [
    {
     "name": "stdout",
     "output_type": "stream",
     "text": [
      "Accuracy: 1.0\n",
      "Classification Report:\n",
      "               precision    recall  f1-score   support\n",
      "\n",
      "      Action       1.00      1.00      1.00       291\n",
      "   Adventure       1.00      1.00      1.00        92\n",
      "   Animation       1.00      1.00      1.00       252\n",
      "      Comedy       1.00      1.00      1.00       392\n",
      "       Crime       1.00      1.00      1.00       663\n",
      "       Drama       1.00      1.00      1.00      1490\n",
      "      Family       1.00      1.00      1.00        83\n",
      "     Fantasy       1.00      1.00      1.00       280\n",
      "     History       1.00      1.00      1.00        89\n",
      "     Romance       1.00      1.00      1.00       357\n",
      "    Thriller       1.00      1.00      1.00       293\n",
      "         War       1.00      1.00      1.00       180\n",
      "     Western       1.00      1.00      1.00        97\n",
      "\n",
      "   micro avg       1.00      1.00      1.00      4559\n",
      "   macro avg       1.00      1.00      1.00      4559\n",
      "weighted avg       1.00      1.00      1.00      4559\n",
      " samples avg       1.00      1.00      1.00      4559\n",
      "\n"
     ]
    }
   ],
   "source": [
    "from sklearn.feature_extraction.text import TfidfVectorizer\n",
    "from sklearn.preprocessing import MultiLabelBinarizer\n",
    "from sklearn.model_selection import train_test_split\n",
    "from sklearn.multiclass import OneVsRestClassifier\n",
    "from sklearn.linear_model import LogisticRegression\n",
    "from sklearn.ensemble import RandomForestClassifier\n",
    "from sklearn.svm import SVC\n",
    "from sklearn.metrics import accuracy_score, classification_report\n",
    "\n",
    "class GenreClassifier:\n",
    "    def __init__(self, max_features=1000, random_state=42, classifier='nb'):\n",
    "        self.max_features = max_features\n",
    "        self.random_state = random_state\n",
    "        self.vectorizer = TfidfVectorizer(max_features=max_features)\n",
    "        self.mlb = MultiLabelBinarizer()\n",
    "        self.classifier_type = classifier\n",
    "        \n",
    "        if self.classifier_type == 'nb':\n",
    "            self.classifier = OneVsRestClassifier(MultinomialNB())\n",
    "        elif self.classifier_type == 'logreg':\n",
    "            self.classifier = OneVsRestClassifier(LogisticRegression(solver='lbfgs', multi_class='ovr'))\n",
    "        elif self.classifier_type == 'rf':\n",
    "            self.classifier = RandomForestClassifier(n_estimators=100, random_state=random_state)\n",
    "        elif self.classifier_type == 'svm':\n",
    "            self.classifier = OneVsRestClassifier(SVC(kernel='linear', probability=True, random_state=random_state))\n",
    "\n",
    "\n",
    "    def preprocess_data(self, X, y):\n",
    "        X_vectorized = self.vectorizer.fit_transform(X)\n",
    "        y_encoded = self.mlb.fit_transform(y)\n",
    "        return X_vectorized, y_encoded\n",
    "\n",
    "    def train_model(self, X_train, y_train):\n",
    "        self.classifier.fit(X_train, y_train)\n",
    "\n",
    "    def evaluate_model(self, X_test, y_test):\n",
    "        y_pred = self.classifier.predict(X_test)\n",
    "        accuracy = accuracy_score(y_test, y_pred)\n",
    "        report = classification_report(y_test, y_pred, target_names=self.mlb.classes_)\n",
    "        return accuracy, report\n",
    "\n",
    "# Assuming df_overview contains the overview text and df_genres contains the genre labels\n",
    "X = new_df['overview']\n",
    "y = new_df['genrs_name']\n",
    "\n",
    "# Splitting the data into training and testing sets\n",
    "X_train, X_test, y_train, y_test = train_test_split(X, y, test_size=0.2, random_state=42)\n",
    "\n",
    "# Initialize GenreClassifier and preprocess data\n",
    "genre_classifier = GenreClassifier(classifier='nb') # Change 'rf' to 'logreg', 'svm', or 'nb' for other classifiers\n",
    "X_train_processed, y_train_processed = genre_classifier.preprocess_data(X_train, y_train)\n",
    "X_test_processed, y_test_processed = genre_classifier.preprocess_data(X_test, y_test)\n",
    "\n",
    "# Train the model\n",
    "genre_classifier.train_model(X_train_processed, y_train_processed)\n",
    "\n",
    "# Evaluate the model\n",
    "accuracy, report = genre_classifier.evaluate_model(X_test_processed, y_test_processed)\n",
    "print(\"Accuracy:\", accuracy)\n",
    "print(\"Classification Report:\\n\", report)\n"
   ]
  },
  {
   "cell_type": "code",
   "execution_count": null,
   "id": "14260fff",
   "metadata": {},
   "outputs": [],
   "source": []
  }
 ],
 "metadata": {
  "kernelspec": {
   "display_name": "Python 3 (ipykernel)",
   "language": "python",
   "name": "python3"
  },
  "language_info": {
   "codemirror_mode": {
    "name": "ipython",
    "version": 3
   },
   "file_extension": ".py",
   "mimetype": "text/x-python",
   "name": "python",
   "nbconvert_exporter": "python",
   "pygments_lexer": "ipython3",
   "version": "3.11.7"
  }
 },
 "nbformat": 4,
 "nbformat_minor": 5
}
